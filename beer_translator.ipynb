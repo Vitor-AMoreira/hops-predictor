{
 "cells": [
  {
   "cell_type": "code",
   "execution_count": 90,
   "metadata": {
    "scrolled": false
   },
   "outputs": [
    {
     "name": "stdout",
     "output_type": "stream",
     "text": [
      "Min Predictions:  [[1.3422084  1.26665023 2.22600117]]\n",
      "Max Predictions:  [[1.44008111 1.28150321 2.27647752]]\n",
      "Average Predictions:  [[1.40073291 1.27560995 2.25630344]]\n"
     ]
    }
   ],
   "source": [
    "import pandas as pd\n",
    "import numpy as np\n",
    "from joblib import dump, load\n",
    "\n",
    "\n",
    "model = load('beer_model.joblib') \n",
    "\n",
    "\n",
    "\n",
    "\n",
    "\n",
    "beer_style = pd.read_csv('beer_style.csv')\n",
    "\n",
    "def locateBeerRecipe(hop_var, prod_type):\n",
    "    row = beer_style.loc[(beer_style['Hop variety & % rel. Oil'] == hop_var) & (beer_style['Product Type'] == prod_type)]\n",
    "    return row\n",
    "\n",
    "row = locateBeerRecipe('Citra', 'T-90/Whole')\n",
    "\n",
    "\n",
    "mini = [str(row.iloc[0]['min-geraniol']), str(row.iloc[0]['min-linalool']), str(row.iloc[0]['min-myrcene']), str(row.iloc[0]['min-trans-β-Farnesene']), str(row.iloc[0]['min-α-humulene']), str(row.iloc[0]['min-β-Caryophylene']), str(row.iloc[0]['min-β-pinene'])]\n",
    "mini = [s.replace(',', '.') for s in mini]\n",
    "mini = [float(i) for i in mini]\n",
    "\n",
    "predict_min = model.predict([mini])\n",
    "\n",
    "print('Min Predictions: ' , predict_min)\n",
    "\n",
    "maxi = [str(row.iloc[0]['max-geraniol']), str(row.iloc[0]['max-linalool']), str(row.iloc[0]['max-myrcene']), str(row.iloc[0]['max-trans-β-Farnesene']), str(row.iloc[0]['max-α-humulene']), str(row.iloc[0]['max-β-Caryophylene']), str(row.iloc[0]['max-β-pinene'])]\n",
    "maxi = [s.replace(',', '.') for s in maxi]\n",
    "maxi = [float(i) for i in maxi]\n",
    "\n",
    "predict_max = model.predict([maxi])\n",
    "\n",
    "print('Max Predictions: ' , predict_max)\n",
    "\n",
    "average = [str(row.iloc[0]['average-geraniol']), str(row.iloc[0]['average-linalool']), str(row.iloc[0]['average-myrcene']), str(row.iloc[0]['average-trans-β-Farnesene']), str(row.iloc[0]['average-α-humulene']), str(row.iloc[0]['average-β-Caryophylene']), str(row.iloc[0]['average-β-pinene'])]\n",
    "average = [s.replace(',', '.') for s in average]\n",
    "average = [float(i) for i in average]\n",
    "\n",
    "predict_average = model.predict([average])\n",
    "\n",
    "print('Average Predictions: ' , predict_average)\n"
   ]
  }
 ],
 "metadata": {
  "kernelspec": {
   "display_name": "Python 3",
   "language": "python",
   "name": "python3"
  },
  "language_info": {
   "codemirror_mode": {
    "name": "ipython",
    "version": 3
   },
   "file_extension": ".py",
   "mimetype": "text/x-python",
   "name": "python",
   "nbconvert_exporter": "python",
   "pygments_lexer": "ipython3",
   "version": "3.7.3"
  }
 },
 "nbformat": 4,
 "nbformat_minor": 2
}
