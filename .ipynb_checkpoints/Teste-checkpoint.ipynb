{
 "cells": [
  {
   "cell_type": "code",
   "execution_count": 27,
   "metadata": {
    "scrolled": false
   },
   "outputs": [
    {
     "name": "stderr",
     "output_type": "stream",
     "text": [
      "C:\\Users\\Eduardo\\Anaconda3\\lib\\site-packages\\ipykernel_launcher.py:16: FutureWarning: convert_objects is deprecated.  To re-infer data dtypes for object columns, use DataFrame.infer_objects()\n",
      "For all other conversions use the data-type specific converters pd.to_datetime, pd.to_timedelta and pd.to_numeric.\n",
      "  app.launch_new_instance()\n"
     ]
    },
    {
     "data": {
      "text/plain": [
       "0.08631386881032233"
      ]
     },
     "execution_count": 27,
     "metadata": {},
     "output_type": "execute_result"
    }
   ],
   "source": [
    "import pandas as pd\n",
    "from sklearn.linear_model import LogisticRegression\n",
    "from sklearn.tree import DecisionTreeClassifier\n",
    "from sklearn.multioutput import MultiOutputRegressor\n",
    "from sklearn.model_selection import train_test_split\n",
    "from sklearn.metrics import accuracy_score\n",
    "from sklearn.linear_model import LinearRegression\n",
    "import numpy as np\n",
    "\n",
    "\n",
    "\n",
    "\n",
    "beer_data = pd.read_csv('teste_bd.csv')\n",
    "\n",
    "\n",
    "beer_data = beer_data.convert_objects(convert_numeric=True)\n",
    "\n",
    "#beer_data['citrus'] = beer_data['citrus'].astype(float)\n",
    "beer_data[\"citrus\"].fillna(beer_data[\"citrus\"].mean(), inplace=True)\n",
    "beer_data[\"herbal (herbaceous)\"].fillna(beer_data[\"herbal (herbaceous)\"].mean(), inplace=True)\n",
    "beer_data[\"overall hoppy intensity\"].fillna(beer_data[\"overall hoppy intensity\"].mean(), inplace=True)\n",
    "beer_data[\"geraniol (cis)\"].fillna(beer_data[\"geraniol (cis)\"].mean(), inplace=True)\n",
    "beer_data[\"linalool\"].fillna(beer_data[\"linalool\"].mean(), inplace=True)\n",
    "beer_data[\"myrcene\"].fillna(beer_data[\"myrcene\"].mean(), inplace=True)\n",
    "beer_data[\"α-humulene\"].fillna(beer_data[\"α-humulene\"].mean(), inplace=True)\n",
    "beer_data[\"β-caryophyllene\"].fillna(beer_data[\"β-caryophyllene\"].mean(), inplace=True)\n",
    "\n",
    "X = beer_data.drop(columns=['citrus', 'herbal (herbaceous)', 'overall hoppy intensity'])\n",
    "y = beer_data.drop(columns=['geraniol (cis)', 'linalool', 'myrcene', 'α-humulene', 'β-caryophyllene'])\n",
    "X_train, X_test, y_train, y_test = train_test_split(X, y, test_size=0.2)\n",
    "\n",
    "\n",
    "model = MultiOutputRegressor(LinearRegression())\n",
    "model.fit(X_train, y_train)\n",
    "\n",
    "score = model.score(X_test, y_test)\n",
    "\n",
    "#predictions = model.predict(X_test)\n",
    "\n",
    "#y_test = y_test.values\n",
    "\n",
    "\n",
    "#predictions = predictions.flatten()\n",
    "#y_test = y_test.flatten()\n",
    "\n",
    "\n",
    "\n",
    "score\n",
    "#beer_data"
   ]
  },
  {
   "cell_type": "code",
   "execution_count": 28,
   "metadata": {
    "scrolled": true
   },
   "outputs": [
    {
     "ename": "NameError",
     "evalue": "name 'df' is not defined",
     "output_type": "error",
     "traceback": [
      "\u001b[1;31m---------------------------------------------------------------------------\u001b[0m",
      "\u001b[1;31mNameError\u001b[0m                                 Traceback (most recent call last)",
      "\u001b[1;32m<ipython-input-28-ea8415b8a3ee>\u001b[0m in \u001b[0;36m<module>\u001b[1;34m\u001b[0m\n\u001b[1;32m----> 1\u001b[1;33m \u001b[0mdf\u001b[0m\u001b[1;33m.\u001b[0m\u001b[0mdescribe\u001b[0m\u001b[1;33m(\u001b[0m\u001b[1;33m)\u001b[0m\u001b[1;33m\u001b[0m\u001b[1;33m\u001b[0m\u001b[0m\n\u001b[0m",
      "\u001b[1;31mNameError\u001b[0m: name 'df' is not defined"
     ]
    }
   ],
   "source": [
    "df.describe()"
   ]
  },
  {
   "cell_type": "code",
   "execution_count": null,
   "metadata": {},
   "outputs": [],
   "source": []
  },
  {
   "cell_type": "code",
   "execution_count": null,
   "metadata": {},
   "outputs": [],
   "source": []
  }
 ],
 "metadata": {
  "kernelspec": {
   "display_name": "Python 3",
   "language": "python",
   "name": "python3"
  },
  "language_info": {
   "codemirror_mode": {
    "name": "ipython",
    "version": 3
   },
   "file_extension": ".py",
   "mimetype": "text/x-python",
   "name": "python",
   "nbconvert_exporter": "python",
   "pygments_lexer": "ipython3",
   "version": "3.7.3"
  }
 },
 "nbformat": 4,
 "nbformat_minor": 2
}
