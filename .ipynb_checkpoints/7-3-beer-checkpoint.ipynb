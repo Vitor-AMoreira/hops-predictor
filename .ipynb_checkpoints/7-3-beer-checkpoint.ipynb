{
 "cells": [
  {
   "cell_type": "code",
   "execution_count": 26,
   "metadata": {},
   "outputs": [
    {
     "name": "stdout",
     "output_type": "stream",
     "text": [
      "[1.4236899  1.338856   2.31816713 1.46524861 1.35671312 2.37968725\n",
      " 1.50778275 1.30873852 2.3877087  1.22226615 1.20889436 2.13089985\n",
      " 1.31029849 1.23758637 2.26179826 1.62784051 1.18650011 2.61083907\n",
      " 1.28603222 1.23085876 2.196414   1.45468801 1.37807152 2.29947468\n",
      " 1.38134844 1.32505638 2.30933835 1.35370588 1.27575189 2.30224695\n",
      " 1.75481325 1.38809911 2.79954602 1.27609657 1.23810391 2.17963323\n",
      " 1.41160882 1.32623991 2.40368902 1.66470006 1.34262795 2.51031901\n",
      " 1.48581033 1.34011252 2.34162713 1.43373265 1.33514031 2.34018142\n",
      " 1.46712413 1.12649667 2.43924337 1.67669272 1.36232771 2.75275411\n",
      " 1.41043545 1.08688375 2.36283126 1.37964578 1.29349806 2.29386853\n",
      " 1.65378115 1.33459117 2.558166   1.52152818 1.31397347 2.40539706\n",
      " 1.32929779 1.25002769 2.24698113 1.67758426 1.17690972 2.64183246\n",
      " 1.50522946 1.24092631 2.41905138 1.61176756 1.30646124 2.52981653\n",
      " 1.44264708 1.3494644  2.42581316 1.36910263 1.24402526 2.30482021\n",
      " 1.30894252 1.23681571 2.26117877 1.44892353 1.35415345 2.34453531\n",
      " 1.47862718 1.28518843 2.36206775 1.58188828 1.3237862  2.4467813\n",
      " 1.50344587 1.25827887 2.41351909 1.38630879 1.30555667 2.36086684\n",
      " 1.42363785 1.32521376 2.42490191 1.25544516 1.18848089 2.21181362\n",
      " 1.65214109 1.28670522 2.58809219 1.46799873 1.05439776 2.42644294\n",
      " 1.68250169 1.25040324 2.63800881 1.27786118 1.14650126 2.18711637\n",
      " 1.38007922 1.32224905 2.28223796]\n",
      "[2.1        1.7        2.8        1.8        1.9        2.7\n",
      " 0.8        0.8        2.42311828 1.44491018 1.26467066 2.\n",
      " 1.1        1.1        2.5        1.6        1.3        2.5\n",
      " 1.4        1.6        2.2        1.8        1.7        2.42311828\n",
      " 1.1        0.7        1.9        1.3        0.9        2.7\n",
      " 1.44491018 1.26467066 2.5        1.4        1.4        2.1\n",
      " 1.3        0.8        2.2        2.6        1.3        2.7\n",
      " 2.2        3.3        3.8        1.8        1.8        2.5\n",
      " 1.1        0.9        1.7        1.44491018 1.26467066 1.6\n",
      " 1.1        1.2        1.9        0.8        0.5        2.7\n",
      " 1.4        1.3        2.3        2.         1.5        2.5\n",
      " 2.1        2.2        2.9        1.2        1.         2.\n",
      " 1.3        1.3        2.1        1.4        1.2        2.3\n",
      " 1.1        0.8        1.9        1.3        0.9        2.1\n",
      " 1.3        1.         2.8        1.5        1.6        2.3\n",
      " 1.44491018 1.26467066 2.9        1.44491018 1.26467066 3.4\n",
      " 1.3        1.         1.9        1.1        1.1        2.5\n",
      " 1.2        1.         2.2        0.9        1.1        2.3\n",
      " 1.4        1.2        2.1        2.         0.7        3.1\n",
      " 1.44491018 1.26467066 1.9        0.7        1.         2.5\n",
      " 0.6        0.5        2.4       ]\n"
     ]
    }
   ],
   "source": [
    "import pandas as pd\n",
    "from sklearn.linear_model import LogisticRegression\n",
    "from sklearn.tree import DecisionTreeClassifier\n",
    "from sklearn.multioutput import MultiOutputRegressor\n",
    "from sklearn.model_selection import train_test_split\n",
    "from sklearn.metrics import accuracy_score\n",
    "from sklearn.linear_model import LinearRegression\n",
    "import numpy as np\n",
    "import joblib\n",
    "\n",
    "\n",
    "\n",
    "\n",
    "beer_data = pd.read_csv('7-3-beer.csv')\n",
    "\n",
    "beer_data = beer_data.astype(float)\n",
    "\n",
    "#beer_data['citrus'] = beer_data['citrus'].astype(float)\n",
    "beer_data[\"citrus\"].fillna(beer_data[\"citrus\"].mean(), inplace=True)\n",
    "beer_data[\"herbal (herbaceous)\"].fillna(beer_data[\"herbal (herbaceous)\"].mean(), inplace=True)\n",
    "beer_data[\"overall hoppy intensity\"].fillna(beer_data[\"overall hoppy intensity\"].mean(), inplace=True)\n",
    "beer_data[\"geraniol (cis)\"].fillna(beer_data[\"geraniol (cis)\"].mean(), inplace=True)\n",
    "beer_data[\"linalool\"].fillna(beer_data[\"linalool\"].mean(), inplace=True)\n",
    "beer_data[\"myrcene\"].fillna(beer_data[\"myrcene\"].mean(), inplace=True)\n",
    "beer_data[\"α-humulene\"].fillna(beer_data[\"α-humulene\"].mean(), inplace=True)\n",
    "beer_data[\"β-caryophyllene\"].fillna(beer_data[\"β-caryophyllene\"].mean(), inplace=True)\n",
    "beer_data[\"β-pinene\"].fillna(beer_data[\"β-pinene\"].mean(), inplace=True)\n",
    "beer_data[\"trans-β-farnesene\"].fillna(beer_data[\"trans-β-farnesene\"].mean(), inplace=True)\n",
    "\n",
    "X = beer_data.drop(columns=['citrus', 'herbal (herbaceous)', 'overall hoppy intensity'])\n",
    "y = beer_data.drop(columns=['geraniol (cis)', 'linalool', 'myrcene', 'trans-β-farnesene', 'α-humulene', 'β-caryophyllene', 'β-pinene'])\n",
    "X_train, X_test, y_train, y_test = train_test_split(X, y, test_size=0.2)\n",
    "\n",
    "\n",
    "model = MultiOutputRegressor(LinearRegression())\n",
    "model.fit(X_train, y_train)\n",
    "\n",
    "predictions = model.predict(X_test)\n",
    "\n",
    "y_test = y_test.values\n",
    "\n",
    "\n",
    "predictions = predictions.flatten()\n",
    "y_test = y_test.flatten()\n",
    "\n",
    "print(predictions)\n",
    "print(y_test)"
   ]
  },
  {
   "cell_type": "code",
   "execution_count": null,
   "metadata": {},
   "outputs": [],
   "source": []
  },
  {
   "cell_type": "code",
   "execution_count": null,
   "metadata": {},
   "outputs": [],
   "source": []
  },
  {
   "cell_type": "code",
   "execution_count": null,
   "metadata": {},
   "outputs": [],
   "source": []
  },
  {
   "cell_type": "code",
   "execution_count": null,
   "metadata": {},
   "outputs": [],
   "source": []
  },
  {
   "cell_type": "code",
   "execution_count": null,
   "metadata": {},
   "outputs": [],
   "source": []
  },
  {
   "cell_type": "code",
   "execution_count": null,
   "metadata": {},
   "outputs": [],
   "source": []
  },
  {
   "cell_type": "code",
   "execution_count": null,
   "metadata": {},
   "outputs": [],
   "source": []
  },
  {
   "cell_type": "code",
   "execution_count": null,
   "metadata": {},
   "outputs": [],
   "source": []
  }
 ],
 "metadata": {
  "kernelspec": {
   "display_name": "Python 3",
   "language": "python",
   "name": "python3"
  },
  "language_info": {
   "codemirror_mode": {
    "name": "ipython",
    "version": 3
   },
   "file_extension": ".py",
   "mimetype": "text/x-python",
   "name": "python",
   "nbconvert_exporter": "python",
   "pygments_lexer": "ipython3",
   "version": "3.7.3"
  }
 },
 "nbformat": 4,
 "nbformat_minor": 2
}
